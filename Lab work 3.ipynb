{
  "nbformat": 4,
  "nbformat_minor": 0,
  "metadata": {
    "colab": {
      "provenance": [],
      "authorship_tag": "ABX9TyOdUss3VCC/qk7Vhf3X3A4+",
      "include_colab_link": true
    },
    "kernelspec": {
      "name": "python3",
      "display_name": "Python 3"
    },
    "language_info": {
      "name": "python"
    }
  },
  "cells": [
    {
      "cell_type": "markdown",
      "metadata": {
        "id": "view-in-github",
        "colab_type": "text"
      },
      "source": [
        "<a href=\"https://colab.research.google.com/github/Bashashkin/osnovy_program/blob/main/Lab%20work%203.ipynb\" target=\"_parent\"><img src=\"https://colab.research.google.com/assets/colab-badge.svg\" alt=\"Open In Colab\"/></a>"
      ]
    },
    {
      "cell_type": "markdown",
      "source": [
        "# № 3.2.1\n",
        "\n",
        "Составьте программу, которая запрашивает у пользователя 2 целых числа и выполняет операции:\n",
        "\n",
        "арифметические: +, -, * , / , // , %, **;\n",
        "\n",
        "сравнение: <, <=, >, >=, !=, ==,\n",
        "\n",
        "выводя на экран результат каждого действия. В случае получение вещественного результата, округлите его до 2-х знаков после запятой (используя функцию round())."
      ],
      "metadata": {
        "id": "-MxSophB6qMT"
      }
    },
    {
      "cell_type": "code",
      "execution_count": null,
      "metadata": {
        "id": "wXt_57fO4iOi",
        "colab": {
          "base_uri": "https://localhost:8080/"
        },
        "outputId": "218cf07c-e645-41ed-fa98-c1cfeb0308c5"
      },
      "outputs": [
        {
          "output_type": "stream",
          "name": "stdout",
          "text": [
            "a=2\n",
            "b=3\n",
            "5\n",
            "-1\n",
            "6\n",
            "0.67\n",
            "0\n",
            "2\n",
            "8\n",
            "True\n",
            "True\n",
            "False\n",
            "False\n",
            "True\n",
            "False\n"
          ]
        }
      ],
      "source": [
        "# Программирование на языке высокого уровня (Python).\n",
        "# https://www.yuripetrov.ru/edu/python\n",
        "# Задание task_03_02_01.\n",
        "#\n",
        "# Выполнил: Башашкин А.М\n",
        "# Группа: АДЭУ-221\n",
        "# E-mail: alesha_2010@list.ru\n",
        "\n",
        "\n",
        "a = int(input(\"a=\"))\n",
        "b = int(input(\"b=\"))\n",
        "\n",
        "print(a + b)\n",
        "print(a - b)\n",
        "print(a * b)\n",
        "print(round(a / b,2))\n",
        "print(a // b)\n",
        "print(a%b)\n",
        "print(a ** b)\n",
        "\n",
        "\n",
        "\n",
        "\n",
        "print(a < b)\n",
        "print(a <= b)\n",
        "print(a > b)\n",
        "print(a >= b)\n",
        "print(a != b)\n",
        "print(a == b)\n",
        "\n",
        "\n",
        "\n",
        "\n",
        "\n",
        "\n",
        "# --------------\n",
        "# Пример вывода:\n",
        "#\n",
        "# a=2\n",
        "# b=3\n",
        "# 5\n",
        "# -1\n",
        "# 6\n",
        "# 0.67\n",
        "# 0\n",
        "# 2\n",
        "# 8\n",
        "# True\n",
        "# True\n",
        "# False\n",
        "# False\n",
        "# True\n",
        "# False\n"
      ]
    },
    {
      "cell_type": "markdown",
      "source": [
        "# № 3.2.2\n",
        "Вычислите значение следующего выражения (аргументы - целые числа и вводятся с клавиатуры): ![image.png](data:image/png;base64,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) Округлите результат до 3-х знаков после запятой, используя функцию round()."
      ],
      "metadata": {
        "id": "uAlIJrik9qpe"
      }
    },
    {
      "cell_type": "code",
      "source": [
        "# Программирование на языке высокого уровня (Python).\n",
        "# https://www.yuripetrov.ru/edu/python\n",
        "# Задание task_03_02_02.\n",
        "#\n",
        "# Выполнил: Башашкин А.М\n",
        "# Группа: АДЭУ-221\n",
        "# E-mail: alesha_2010@list.ru\n",
        "\n",
        "\n",
        "x = int(input(\"x=\"))\n",
        "y = int(input(\"y=\"))\n",
        "z = int(input(\"z=\"))\n",
        "\n",
        "t1=x**5+7\n",
        "t2=abs(-6)*y\n",
        "t3=7-(z%y)\n",
        "\n",
        "res1=(t1/t2)**(1/3)\n",
        "res2=(round(res1/t3,3))\n",
        "\n",
        "\n",
        "print(res2)\n",
        "\n",
        "\n",
        "# --------------\n",
        "# Пример вывода:\n",
        "#\n",
        "# x=0\n",
        "# y=1\n",
        "# z=2\n",
        "# 0.15\n",
        "\n"
      ],
      "metadata": {
        "id": "WBDntdYH-Qfm"
      },
      "execution_count": null,
      "outputs": []
    },
    {
      "cell_type": "markdown",
      "source": [
        "# № 3.2.3\n",
        "Дана электрическая цепь, состоящая из 2-х последовательно соединенных проводников (сопротивление каждого известно). Найти общее сопротивление цепи (округление результата необходимо выполнить до 1-го знака после запятой).\n",
        "\n",
        "Решение (начало и общий ход мыслей):\n",
        "\n",
        "Аналитическое решение.\n",
        "\n",
        "Проводники соединены последовательно, поэтому общее сопротивление цепи будет равно сумме их сопротивлений. Сопротивление может быть вещественным числом, поэтому для его хранения необходимо выбрать тип float.\n",
        "\n",
        "# Алгоритм.\n",
        "\n",
        "ввести 2 вещественных значения - сопротивления проводников;\n",
        "вычислить их сумму;\n",
        "вывести ответ на экран. Программа."
      ],
      "metadata": {
        "id": "9FtEKcAO-UrF"
      }
    },
    {
      "cell_type": "code",
      "source": [
        "# Программирование на языке высокого уровня (Python).\n",
        "# https://www.yuripetrov.ru/edu/python\n",
        "# Задание task_03_02_03.\n",
        "#\n",
        "# Выполнил: Башашкин А.М\n",
        "# Группа: АДЭУ-221\n",
        "# E-mail: alesha_2010@list.ru\n",
        "\n",
        "\n",
        "\n",
        "print('Введите значение сопротивления первого проводника')\n",
        "r1 = float(input(\"r1=\"))\n",
        "print('Введите значение сопротивления второго проводника')\n",
        "r2 = float(input(\"r2=\"))\n",
        "\n",
        "# Общее сопротивление\n",
        "r = r1+r2\n",
        "\n",
        "print('Общее сопротивление= ',r)\n",
        "\n",
        "\n",
        "# --------------\n",
        "# Пример вывода:\n",
        "#\n",
        "# r1=12.2\n",
        "# r2=16.1\n",
        "# 28.3\n"
      ],
      "metadata": {
        "id": "teNSx4VP-gtB"
      },
      "execution_count": null,
      "outputs": []
    },
    {
      "cell_type": "markdown",
      "source": [
        "# № 3.2.4\n",
        "\n",
        "Дано двузначное и трехзначное число. Для каждого выведите на экран сумму и произведение цифр."
      ],
      "metadata": {
        "id": "4zzoPvBE-i36"
      }
    },
    {
      "cell_type": "code",
      "source": [
        "# Программирование на языке высокого уровня (Python).\n",
        "# https://www.yuripetrov.ru/edu/python\n",
        "# Задание task_03_02_04.\n",
        "#\n",
        "# Выполнил: Башашкин А.М\n",
        "# Группа: АДЭУ-221\n",
        "# E-mail: alesha_2010@list.ru\n",
        "\n",
        "\n",
        "# Двузначное число\n",
        "num2 = int(input(\"a=\"))\n",
        "# Трехзначное число\n",
        "num3 = int(input(\"b=\"))\n",
        "\n",
        "# 1-я цифра числа 'num2'\n",
        "num2_1 = num2//10\n",
        "# 2-я цифра числа 'num2'\n",
        "num2_2 = num2%10\n",
        "\n",
        "# Сумма цифр числа 'num2'\n",
        "num2_s = num2_1+num2_2\n",
        "# Произведение цифр числа 'num2'\n",
        "num2_p = num2_1*num2_2\n",
        "\n",
        "# 1-я цифра числа 'num3'\n",
        "num3_1 = num3//100\n",
        "# 2-я цифра числа 'num3'\n",
        "num3_2 = (num3%100)//10\n",
        "# 3-я цифра числа 'num3'\n",
        "num3_3 = num3%10\n",
        "\n",
        "# Сумма цифр числа 'num3'\n",
        "num3_s = num3_1+num3_2+num3_3\n",
        "# Произведение цифр числа 'num3'\n",
        "num3_p = (num3_1)*(num3_2)*(num3_3)\n",
        "\n",
        "print(num2_s, num2_p)\n",
        "print(num3_s, num3_p)\n",
        "# Удалите комментарий и допишите код\n",
        "\n",
        "\n",
        "# --------------\n",
        "# Пример вывода:\n",
        "#\n",
        "# Двузначное число: 45\n",
        "# Трехзначное число: 456\n",
        "# Сумма и произведение цифр двузначного числа: 9 20\n",
        "# Сумма и произведение цифр трехзначного числа: 15 120\n"
      ],
      "metadata": {
        "id": "Gp3SExhV-n4u"
      },
      "execution_count": null,
      "outputs": []
    },
    {
      "cell_type": "markdown",
      "source": [
        "# № 3.2.5\n",
        "\n",
        "С начала суток прошло m минут (0<m≤24∗60). Определите:\n",
        "\n",
        "целое количество часов, прошедших с начала суток;\n",
        "\n",
        "количество минут, прошедших с момента начала последнего часа."
      ],
      "metadata": {
        "id": "DBQAx9ZD-q9h"
      }
    },
    {
      "cell_type": "code",
      "source": [
        "# Программирование на языке высокого уровня (Python).\n",
        "# https://www.yuripetrov.ru/edu/python\n",
        "# Задание task_03_02_05.\n",
        "#\n",
        "# Выполнил: Башашкин А.М\n",
        "# Группа: АДЭУ-221\n",
        "# E-mail: alesha_2010@list.ru\n",
        "\n",
        "\n",
        "# Количество минут\n",
        "m = int(input(\"m=\"))\n",
        "\n",
        "# Количество часов, прошедших с начала суток\n",
        "h = m//60\n",
        "# Количество минут, прошедших с момента начала последнего часа\n",
        "m2 = m%60\n",
        "\n",
        "print(\"Количество часов, прошедших с начала суток:\", h)\n",
        "print(\"Количество часов, прошедших с начала последнего часа:\", m2)\n",
        "\n",
        "# --------------\n",
        "# Пример вывода:\n",
        "#\n",
        "# Количество минут, прошедшее с начала суток: 123\n",
        "# Количество часов, прошедших с начала суток: 2\n",
        "# Количество минут, прошедших с момента начала последнего часа: 3\n"
      ],
      "metadata": {
        "id": "jDRclDxd-vwd"
      },
      "execution_count": null,
      "outputs": []
    },
    {
      "cell_type": "markdown",
      "source": [
        "# № 3.2.6\n",
        "Дано уравнение ax + b = 0 и отрезок [m;n]. Ответьте на вопрос, попадает ли решение уравнения в указанный отрезок.\n",
        "\n",
        "Решение (начало и общий ход мыслей):\n",
        "\n",
        "Аналитическое решение.\n",
        "\n",
        "Коэффициенты уравнения и величина отрезка - произвольны, возьмем целые числа. Решение x при этом может быть дробным. После определения x составим логическое выражение попадания в отрезок, что и будет ответом.\n",
        "\n",
        "# Алгоритм.\n",
        "ввести все неизвестные величины;\n",
        "определить корень уравнения;\n",
        "составить логическое выражение попадания корня в область;\n",
        "вывести результат попадания на экран."
      ],
      "metadata": {
        "id": "5dEn64pi-xZO"
      }
    },
    {
      "cell_type": "code",
      "source": [
        "# Программирование на языке высокого уровня (Python).\n",
        "# https://www.yuripetrov.ru/edu/python\n",
        "# Задание task_03_02_06.\n",
        "#\n",
        "# Выполнил: Башашкин А.М\n",
        "# Группа: АДЭУ-221\n",
        "# E-mail: alesha_2010@list.ru\n",
        "\n",
        "a = int(input(\"a=\"))\n",
        "b = int(input(\"b=\"))\n",
        "m = int(input(\"m=\"))\n",
        "n = int(input(\"n=\"))\n",
        "\n",
        "x = -b//a\n",
        "\n",
        "is_ok = bool((x>=m) and (x<=n))\n",
        "\n",
        "print(\"Попадает:\", is_ok)\n",
        "\n",
        "\n",
        "# --------------\n",
        "# Пример вывода:\n",
        "#\n",
        "# Введите a = 1\n",
        "# Введите b = 2\n",
        "# Введите m = -5\n",
        "# Введите n = 5\n",
        "# Попадает: True"
      ],
      "metadata": {
        "id": "SfAWhwIY-4Al"
      },
      "execution_count": null,
      "outputs": []
    },
    {
      "cell_type": "markdown",
      "source": [
        "# №3.2.7\n",
        "Составьте программу, которая запрашивает название государства и его столицы, а затем выводит сообщение:\n",
        "\n",
        "Государство - ..., столица - ... На месте многоточий должны быть выведены соответствующие значения."
      ],
      "metadata": {
        "id": "u04IHIQR-58c"
      }
    },
    {
      "cell_type": "code",
      "source": [
        "# Программирование на языке высокого уровня (Python).\n",
        "# https://www.yuripetrov.ru/edu/python\n",
        "# Задание task_03_02_08.\n",
        "#\n",
        "# Выполнил: Башашкин А.М\n",
        "# Группа: АДЭУ-221\n",
        "# E-mail: alesha_2010@list.ru\n",
        "\n",
        "\n",
        "# Название государства\n",
        "country = input()\n",
        "# Название столицы\n",
        "capital = input()\n",
        "a='Государство'\n",
        "b='Столица'\n",
        "x=\"{}: {},{}: {}\".format(a,country,b,capital)\n",
        "print(x)\n",
        "\n",
        "\n",
        "# --------------\n",
        "# Пример вывода:\n",
        "#\n",
        "# Введите название государства: Россия\n",
        "# Введите название столицы: Москва\n",
        "# Государство - Россия, столица - Москва"
      ],
      "metadata": {
        "id": "oqWR0_cE_Ctg"
      },
      "execution_count": null,
      "outputs": []
    },
    {
      "cell_type": "markdown",
      "source": [
        "# № 3.2.9\n",
        "\n",
        "Дано слово объектно-ориентированный. Используя индексацию и срезы составьте из него слова объект, ориентир, тир, кот, рента и выведите их на экран."
      ],
      "metadata": {
        "id": "sjUOihC4_Eml"
      }
    },
    {
      "cell_type": "code",
      "source": [
        "# Программирование на языке высокого уровня (Python).\n",
        "# https://www.yuripetrov.ru/edu/python\n",
        "# Задание task_03_02_09.\n",
        "#\n",
        "# Выполнил: Башашкин А.М\n",
        "# Группа: АДЭУ-221\n",
        "# E-mail: alesha_2010@list.ru\n",
        "\n",
        "word = \"объектно-ориентированный\"\n",
        "\n",
        "w1 = word[:6]  # (слово объект)\n",
        "w2 = word[9:17] \n",
        "w3 = word[14:17]\n",
        "w4 = word[4]+word[7]+word[5]\n",
        "w5 = word[10]+word[12:15]+word[19]\n",
        "print(w1, w2, w3, w4, w5, sep=\"\\n\")\n",
        "\n",
        "\n",
        "# --------------\n",
        "# Пример вывода:\n",
        "#\n",
        "# объект\n",
        "# ориентир\n",
        "# тир\n",
        "# кот\n",
        "# рента\n"
      ],
      "metadata": {
        "id": "RnfccGVk_LZb"
      },
      "execution_count": null,
      "outputs": []
    }
  ]
}