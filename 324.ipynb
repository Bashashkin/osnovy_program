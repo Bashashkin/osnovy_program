{
  "nbformat": 4,
  "nbformat_minor": 0,
  "metadata": {
    "colab": {
      "provenance": [],
      "authorship_tag": "ABX9TyOCnnwHQOrqLv6UGay/kzZO",
      "include_colab_link": true
    },
    "kernelspec": {
      "name": "python3",
      "display_name": "Python 3"
    },
    "language_info": {
      "name": "python"
    }
  },
  "cells": [
    {
      "cell_type": "markdown",
      "metadata": {
        "id": "view-in-github",
        "colab_type": "text"
      },
      "source": [
        "<a href=\"https://colab.research.google.com/github/Bashashkin/osnovy_program/blob/main/324.ipynb\" target=\"_parent\"><img src=\"https://colab.research.google.com/assets/colab-badge.svg\" alt=\"Open In Colab\"/></a>"
      ]
    },
    {
      "cell_type": "markdown",
      "source": [
        "№ 3.2.4\n",
        "\n",
        "Дано двузначное и трехзначное число. Для каждого выведите на экран сумму и произведение цифр."
      ],
      "metadata": {
        "id": "b1K3DlZIDnox"
      }
    },
    {
      "cell_type": "code",
      "source": [
        "# Программирование на языке высокого уровня (Python).\n",
        "# https://www.yuripetrov.ru/edu/python\n",
        "# Задание task_03_02_04.\n",
        "#\n",
        "# Выполнил: Башашкин А.М\n",
        "# Группа: АДЭУ-221\n",
        "# E-mail: alesha_2010@list.ru\n",
        "\n",
        "\n",
        "# Двузначное число\n",
        "num2 = int(input(\"a=\"))\n",
        "# Трехзначное число\n",
        "num3 = int(input(\"b=\"))\n",
        "\n",
        "# 1-я цифра числа 'num2'\n",
        "num2_1 = num2//10\n",
        "# 2-я цифра числа 'num2'\n",
        "num2_2 = num2%10\n",
        "\n",
        "# Сумма цифр числа 'num2'\n",
        "num2_s = num2_1+num2_2\n",
        "# Произведение цифр числа 'num2'\n",
        "num2_p = num2_1*num2_2\n",
        "\n",
        "# 1-я цифра числа 'num3'\n",
        "num3_1 = num3//100\n",
        "# 2-я цифра числа 'num3'\n",
        "num3_2 = (num3%100)//10\n",
        "# 3-я цифра числа 'num3'\n",
        "num3_3 = num3%10\n",
        "\n",
        "# Сумма цифр числа 'num3'\n",
        "num3_s = num3_1+num3_2+num3_3\n",
        "# Произведение цифр числа 'num3'\n",
        "num3_p = (num3_1)*(num3_2)*(num3_3)\n",
        "\n",
        "print(num2_s, num2_p)\n",
        "print(num3_s, num3_p)\n",
        "# Удалите комментарий и допишите код\n",
        "\n",
        "\n",
        "# --------------\n",
        "# Пример вывода:\n",
        "#\n",
        "# Двузначное число: 45\n",
        "# Трехзначное число: 456\n",
        "# Сумма и произведение цифр двузначного числа: 9 20\n",
        "# Сумма и произведение цифр трехзначного числа: 15 120\n"
      ],
      "metadata": {
        "colab": {
          "base_uri": "https://localhost:8080/"
        },
        "id": "Zu3w46BVDoaN",
        "outputId": "2ce446cb-881f-4dd4-87c2-6aa97858456a"
      },
      "execution_count": 4,
      "outputs": [
        {
          "output_type": "stream",
          "name": "stdout",
          "text": [
            "a=45\n",
            "b=456\n",
            "9 20\n",
            "15 120\n"
          ]
        }
      ]
    }
  ]
}