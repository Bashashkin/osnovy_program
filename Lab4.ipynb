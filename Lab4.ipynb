{
  "cells": [
    {
      "cell_type": "markdown",
      "metadata": {
        "id": "view-in-github",
        "colab_type": "text"
      },
      "source": [
        "<a href=\"https://colab.research.google.com/github/Bashashkin/osnovy_program/blob/main/Lab4.ipynb\" target=\"_parent\"><img src=\"https://colab.research.google.com/assets/colab-badge.svg\" alt=\"Open In Colab\"/></a>"
      ]
    },
    {
      "cell_type": "markdown",
      "metadata": {
        "id": "4d_9Z5kdZ2F6"
      },
      "source": [
        "# № 4.2.1\n",
        "\n",
        "Рассчитать значение f при заданном значении вещественного числа x:\n",
        "\n",
        "![image.png](data:image/png;base64,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)\n",
        "\n",
        "При выводе на экран оставьте 2 знака после запятой."
      ]
    },
    {
      "cell_type": "code",
      "execution_count": null,
      "metadata": {
        "colab": {
          "base_uri": "https://localhost:8080/"
        },
        "id": "M0tHQSu6Zx3U",
        "outputId": "efda30c5-c14c-43d8-fef2-b8f847d9f2af"
      },
      "outputs": [
        {
          "name": "stdout",
          "output_type": "stream",
          "text": [
            "Введите x-1\n",
            "-1.0\n"
          ]
        }
      ],
      "source": [
        "# Программирование на языке высокого уровня (Python).\n",
        "# https://www.yuripetrov.ru/edu/python\n",
        "# Задание task_04_02_01.\n",
        "#\n",
        "# Выполнил: Башашкин А.М\n",
        "# Группа: АДЭУ-221\n",
        "# E-mail: alesha_2010@list.ru\n",
        "\n",
        "x=int(input('Введите x'))\n",
        "if x>=0:\n",
        "    f = x**(1/2) + x**2\n",
        "else:\n",
        "    f = 1/x\n",
        "f = round(f,2)\n",
        "print(f)\n",
        "\n",
        "# --------------\n",
        "# Пример вывода:\n",
        "#\n",
        "# Введите число x: -10\n",
        "# f = -0.10\n",
        "\n",
        "# Введите число x: 0\n",
        "# f = 0.00\n",
        "\n",
        "# Введите число x: 10\n",
        "# f = 103.16\n",
        "\n"
      ]
    },
    {
      "cell_type": "markdown",
      "metadata": {
        "id": "COgH36Kda9IB"
      },
      "source": [
        "# № 4.2.2\n",
        "Определите максимальное и минимальное значения из двух различных целых чисел."
      ]
    },
    {
      "cell_type": "code",
      "execution_count": null,
      "metadata": {
        "colab": {
          "base_uri": "https://localhost:8080/"
        },
        "id": "wldXYgpobDOo",
        "outputId": "565759d6-ed5f-4b7b-dd64-89ed80bcbe65"
      },
      "outputs": [
        {
          "name": "stdout",
          "output_type": "stream",
          "text": [
            "Введите значение а10\n",
            "Введите значение b20\n",
            "Максимум:  20 Минимум: 10\n"
          ]
        }
      ],
      "source": [
        "# Программирование на языке высокого уровня (Python).\n",
        "# https://www.yuripetrov.ru/edu/python\n",
        "# Задание task_04_02_02.\n",
        "#\n",
        "# Выполнил: Башашкин А.М\n",
        "# Группа: АДЭУ-221\n",
        "# E-mail: alesha_2010@list.ru\n",
        "\n",
        "a = int(input('Введите значение а'))\n",
        "b = int(input('Введите значение b'))\n",
        "if a>b:\n",
        "    print ('Максимум: ',a)\n",
        "elif a == b:\n",
        "    print ('значения равны')\n",
        "else:\n",
        "    print ('Максимум: ', b, 'Минимум:',a)\n",
        "# --------------\n",
        "# Пример вывода:\n",
        "#\n",
        "# Введите первое число: 1\n",
        "# Введите второе число: 2\n",
        "# Максимум: 2, минимум: 1\n",
        "# Введите первое число: 5\n",
        "# Введите второе число: 5\n",
        "# Максимум: 5, минимум: 5\n",
        "# Введите первое число: 100\n",
        "# Введите второе число: -1\n",
        "# Максимум: 100, минимум: -1"
      ]
    },
    {
      "cell_type": "markdown",
      "metadata": {
        "id": "t52kvebkcAmL"
      },
      "source": [
        "# № 4.2.3\n",
        "\n",
        "Вася пытается высунуть голову в форточку размерами a и b см. Приняв условно, что его голова - круглая диаметром d см, определите, сможет ли Вася сделать это. Для прохождения головы в форточку необходим зазор в 1 см. с каждой стороны.\n",
        "\n",
        "Все величины - целые числа."
      ]
    },
    {
      "cell_type": "code",
      "execution_count": null,
      "metadata": {
        "colab": {
          "base_uri": "https://localhost:8080/"
        },
        "id": "YA2nhHygcG1H",
        "outputId": "45510588-9967-416a-8636-d8ff0ed9c950"
      },
      "outputs": [
        {
          "name": "stdout",
          "output_type": "stream",
          "text": [
            "Ширина форточки = 5\n",
            "Высота форточки = 6\n",
            "Диаметр головы = 6\n",
            "Нет\n"
          ]
        }
      ],
      "source": [
        "# Программирование на языке высокого уровня (Python).\n",
        "# https://www.yuripetrov.ru/edu/python\n",
        "# Задание task_04_02_03.\n",
        "#\n",
        "# Выполнил: Башашкин А.М\n",
        "# Группа: АДЭУ-221\n",
        "# E-mail: alesha_2010@list.ru\n",
        "\n",
        "a = int(input('Ширина форточки = '))\n",
        "b = int(input('Высота форточки = '))\n",
        "d = int(input('Диаметр головы = '))\n",
        "\n",
        "# Введенные числа должны быть положительными, если так - осуществляем\n",
        "# расчет, иначе выводим \"Проверьте ввод\"\n",
        "if a>0 and b>0 and d>0:\n",
        "    fix = 1  # Зазор\n",
        "    if a >= fix + d and b >= fix + d:\n",
        "      print('Да')\n",
        "    else:\n",
        "      print('Нет')\n",
        "else:\n",
        "    print('Проверьте ввод')\n",
        "# --------------\n",
        "# Пример вывода:\n",
        "#\n",
        "# Ширина форточки: 5\n",
        "# Высота форточки: 6\n",
        "# Диаметр головы: 6\n",
        "# Нет\n",
        "\n",
        "# Ширина форточки: 6\n",
        "# Высота форточки: 7\n",
        "# Диаметр головы: 4\n",
        "# Да\n"
      ]
    },
    {
      "cell_type": "markdown",
      "metadata": {
        "id": "TwTpCc6EeG0o"
      },
      "source": [
        "# № 4.2.4\n",
        "\n",
        "Известны год и номер месяца сегодняшнего дня, а также год и номер месяца рождения человека (нумерация месяцев с 1: январь - 1 и т.д.). Определите возраст человека (число полных лет)."
      ]
    },
    {
      "cell_type": "code",
      "execution_count": null,
      "metadata": {
        "colab": {
          "base_uri": "https://localhost:8080/"
        },
        "id": "_Cj6-9EQeIxZ",
        "outputId": "9c5e84a5-efbc-4fd2-bd71-d4e00f95d976"
      },
      "outputs": [
        {
          "name": "stdout",
          "output_type": "stream",
          "text": [
            "Введите текущий год: 2020\n",
            "Введите текущий месяц: 5\n",
            "Введит год рождения: 2000\n",
            "Введите месяц рождения: 5\n",
            "Число полных лет:  20\n"
          ]
        }
      ],
      "source": [
        "# Программирование на языке высокого уровня (Python).\n",
        "# https://www.yuripetrov.ru/edu/python\n",
        "# Задание task_04_02_04.\n",
        "#\n",
        "# Выполнил: Башашкин А.М\n",
        "# Группа: АДЭУ-221\n",
        "# E-mail: alesha_2010@list.ru\n",
        "\n",
        "\n",
        "year_today = int(input('Введите текущий год: '))\n",
        "month_today = int(input('Введите текущий месяц: '))\n",
        "year = int(input('Введит год рождения: '))\n",
        "month = int(input('Введите месяц рождения: '))\n",
        "if month_today >= month:\n",
        "  age = year_today - year\n",
        "else:\n",
        "  age = year_today - year - 1\n",
        "print(\"Число полных лет: \", age)\n",
        "\n",
        "# --------------\n",
        "# Пример вывода:\n",
        "#\n",
        "# Введите текущий год: 2017\n",
        "# Введите текущий месяц: 5\n",
        "# Введите год рождения: 2000\n",
        "# Введите месяц рождения: 1\n",
        "# Число полных лет:  17\n",
        "#\n",
        "# Введите текущий год: 2015\n",
        "# Введите текущий месяц: 6\n",
        "# Введите год рождения: 2010\n",
        "# Введите месяц рождения: 8\n",
        "# Число полных лет:  4\n",
        "#\n",
        "# Введите текущий год: 2020\n",
        "# Введите текущий месяц: 5\n",
        "# Введите год рождения: 2000\n",
        "# Введите месяц рождения: 5\n",
        "# Число полных лет:  20\n"
      ]
    },
    {
      "cell_type": "markdown",
      "metadata": {
        "id": "3U9LzRwOkdUL"
      },
      "source": [
        "# № 4.2.5\n",
        "\n",
        "Дана точка с целыми ненулевыми координатами (x;y). Определить номер четверти координатной плоскости, которой она принадлежит."
      ]
    },
    {
      "cell_type": "code",
      "execution_count": null,
      "metadata": {
        "colab": {
          "base_uri": "https://localhost:8080/"
        },
        "id": "-tpMcVbxkl1w",
        "outputId": "86a999cc-82c5-4da6-c415-969f3436fbb0"
      },
      "outputs": [
        {
          "name": "stdout",
          "output_type": "stream",
          "text": [
            "Введите координату x: -2\n",
            "Введите координату y: 10\n",
            "2-я четверть\n"
          ]
        }
      ],
      "source": [
        "# Программирование на языке высокого уровня (Python).\n",
        "# https://www.yuripetrov.ru/edu/python\n",
        "# Задание task_04_02_05.\n",
        "#\n",
        "# Выполнил: Башашкин А.М\n",
        "# Группа: АДЭУ-221\n",
        "# E-mail: alesha_2010@list.ru\n",
        "\n",
        "\n",
        "\n",
        "x = int(input('Введите координату x: '))\n",
        "y = int(input('Введите координату y: ')) \n",
        "\n",
        "if x>0 and y>0:\n",
        "    print(\"1-я четверть\")\n",
        "elif x<0 and y>0:\n",
        "  print(\"2-я четверть\")\n",
        "elif x<0 and y<0:\n",
        "  print(\"3-я четверть\")\n",
        "elif x>0 and y<0:\n",
        "  print(\"4-я четверть\")\n",
        "\n",
        "# --------------\n",
        "# Пример вывода:\n",
        "#\n",
        "# Введите координату x: 5\n",
        "# Введите координату y: 7\n",
        "# 1-я четверть\n"
      ]
    },
    {
      "cell_type": "markdown",
      "metadata": {
        "id": "S9PwhG87lVx9"
      },
      "source": [
        "# № 4.2.6\n",
        "\n",
        "Даны вещественные числа a, b, c (a≠0).\n",
        "\n",
        "Решите уравнение \n",
        "![image.png](data:image/png;base64,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)\n",
        " При выводе значений оставьте 1 знак после запятой"
      ]
    },
    {
      "cell_type": "code",
      "execution_count": null,
      "metadata": {
        "colab": {
          "base_uri": "https://localhost:8080/"
        },
        "id": "77-Fdks1lfgO",
        "outputId": "198788cc-1e39-48bf-d0d8-5089585ba1a8"
      },
      "outputs": [
        {
          "name": "stdout",
          "output_type": "stream",
          "text": [
            "Введите значение a: 1\n",
            "Введите значение b: 3\n",
            "Введите значение c: -4\n",
            "x1 = -4.0 x2 = 1.0\n"
          ]
        }
      ],
      "source": [
        "# Программирование на языке высокого уровня (Python).\n",
        "# https://www.yuripetrov.ru/edu/python\n",
        "# Задание task_04_02_06.\n",
        "#\n",
        "# Выполнил: Башашкин А.М\n",
        "# Группа: АДЭУ-221\n",
        "# E-mail: alesha_2010@list.ru\n",
        "\n",
        "\n",
        "a = float(input('Введите значение a: '))\n",
        "b = float(input('Введите значение b: '))\n",
        "c = float(input('Введите значение c: '))\n",
        "\n",
        "d = (b**2)-(4*a*c)\n",
        "if d<0:\n",
        "    print('Нет решения.')\n",
        "elif d==0:\n",
        "    x1 = (-1*b)/2*a\n",
        "    x1 = round(x1,1)\n",
        "    print('x = ', x1)\n",
        "else:\n",
        "    x2 = ((-1*b)+(d**(1/2)))/2*a\n",
        "    x1 = ((-1*b)-(d**(1/2)))/2*a\n",
        "    x1 = round(x1,1)\n",
        "    x2 = round(x2,1)\n",
        "    print('x1 =',x1,'x2 =',x2)\n",
        "  \n",
        "# Вывод решения в зависимости от значения дискриминанта\n",
        "# При выводе значений оставьте 1 знак после запятой\n",
        "# Удалите комментарий и допишите код\n",
        "\n",
        "# --------------\n",
        "# Пример вывода:\n",
        "#\n",
        "# a = 1\n",
        "# b = 2\n",
        "# c = 3\n",
        "# Решений нет\n",
        "#\n",
        "# a = 1\n",
        "# b = 2\n",
        "# c = 1\n",
        "# x = -1.0\n",
        "#\n",
        "# a = 1\n",
        "# b = 3\n",
        "# c = -4\n",
        "# x1 = -4.0, x2 = 1.0\n",
        "\n"
      ]
    },
    {
      "cell_type": "markdown",
      "metadata": {
        "id": "pHBvurs5r2p_"
      },
      "source": []
    },
    {
      "cell_type": "markdown",
      "metadata": {
        "id": "bSnNTizhaqX2"
      },
      "source": [
        "# № 4.2.7\n",
        "\n",
        "Дана непустая последовательность целых чисел, оканчивающаяся нулем. Найти сумму и количество введенных чисел."
      ]
    },
    {
      "cell_type": "code",
      "execution_count": null,
      "metadata": {
        "colab": {
          "base_uri": "https://localhost:8080/"
        },
        "id": "cAXmHqcka4tJ",
        "outputId": "b032a75a-b506-4a14-dc2f-3cc3856c671e"
      },
      "outputs": [
        {
          "output_type": "stream",
          "name": "stdout",
          "text": [
            "Введите 1-е число 1\n",
            "Введитe 2-е число: 2\n",
            "Введитe 3-е число: 3\n",
            "Введитe 4-е число: 4\n",
            "Введитe 5-е число: 0\n",
            "Сумма =  10\n",
            "Количество  =  4\n"
          ]
        }
      ],
      "source": [
        "# Программирование на языке высокого уровня (Python).\n",
        "# https://www.yuripetrov.ru/edu/python\n",
        "# Задание task_04_02_07.\n",
        "#\n",
        "# Выполнил: Башашкин А.М\n",
        "# Группа: АДЭУ-221\n",
        "# E-mail: alesha_2010@list.ru\n",
        "\n",
        "\n",
        "nums_sum = 0  # сумма\n",
        "nums_count = 0  # количество\n",
        "\n",
        "x = int(input('Введите 1-е число '))\n",
        "j = 2\n",
        "\n",
        "while x != 0:\n",
        "  nums_count += 1 \n",
        "  nums_sum += x\n",
        "  x = int(input('Введитe {}-е число: '.format(j)))\n",
        "  j+=1\n",
        "  \n",
        "print('Сумма = ',nums_sum)\n",
        "print('Количество  = ',nums_count)\n",
        "# Удалите комментарий и допишите код\n",
        "\n",
        "# --------------\n",
        "# Пример вывода:\n",
        "#\n",
        "# Введите 1-е число: 1\n",
        "# Введите 2-е число: 2\n",
        "# Введите 3-е число: 3\n",
        "# Введите 4-е число: 4\n",
        "# Введите 5-е число: 0\n",
        "# Сумма = 10\n",
        "# Количество = 4\n",
        "#\n",
        "# Введите 1-е число: 0\n",
        "# Сумма = 0\n",
        "# Количество = 0\n",
        "\n"
      ]
    },
    {
      "cell_type": "markdown",
      "metadata": {
        "id": "CEYTeHR7hUnC"
      },
      "source": [
        "# № 4.2.8\n",
        "\n",
        "Дано число n. Из чисел 0,5,10,15,20,25,... напечатать те, которые не превышают n."
      ]
    },
    {
      "cell_type": "code",
      "execution_count": null,
      "metadata": {
        "colab": {
          "background_save": true
        },
        "id": "uye6QtfQhXlr",
        "outputId": "5387a43f-0deb-4cc8-df5d-b996b7ce6eb1"
      },
      "outputs": [
        {
          "name": "stdout",
          "output_type": "stream",
          "text": [
            "0\n",
            "5\n",
            "10\n"
          ]
        }
      ],
      "source": [
        "# Программирование на языке высокого уровня (Python).\n",
        "# https://www.yuripetrov.ru/edu/python\n",
        "# Задание task_04_02_08.\n",
        "#\n",
        "# Выполнил: Башашкин А.М\n",
        "# Группа: АДЭУ-221\n",
        "# E-mail: alesha_2010@list.ru\n",
        "\n",
        "\n",
        "n = int(input('n = '))\n",
        "\n",
        "x = 0\n",
        "while x<=n:\n",
        "  print(x)\n",
        "  x+=5\n",
        "  \n",
        "\n",
        "  \n",
        "\n",
        "# --------------\n",
        "# Пример вывода:\n",
        "#\n",
        "# n = 0\n",
        "# 0\n",
        "#\n",
        "# n = 10\n",
        "# 0\n",
        "# 5\n",
        "# 10\n",
        "#\n",
        "# n = 12\n",
        "# 0\n",
        "# 5\n",
        "# 10\n"
      ]
    },
    {
      "cell_type": "markdown",
      "source": [
        "# № 4.2.9\n",
        "\n",
        "Дано вещественное число a. Найдите наименьшее натуральное n, для которого верно\n",
        "\n",
        "![image.png](data:image/png;base64,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)"
      ],
      "metadata": {
        "id": "cvNfg7TBm34I"
      }
    },
    {
      "cell_type": "code",
      "source": [
        "# Программирование на языке высокого уровня (Python).\n",
        "# https://www.yuripetrov.ru/edu/python\n",
        "# Задание task_04_02_09.\n",
        "#\n",
        "# Выполнил: Башашкин А.М\n",
        "# Группа: АДЭУ-221\n",
        "# E-mail: alesha_2010@list.ru\n",
        "\n",
        "a = float(input('a = '))\n",
        "n = 1\n",
        "x_sum = 1/n\n",
        "while x_sum <= a:\n",
        "  n+=1\n",
        "  x_sum += 1/n\n",
        "\n",
        "print(n)\n",
        "\n",
        "# --------------\n",
        "# Пример вывода:\n",
        "#\n",
        "# a = 1.5\n",
        "# n = 3\n",
        "#\n",
        "# a = 2\n",
        "# n = 4\n"
      ],
      "metadata": {
        "colab": {
          "base_uri": "https://localhost:8080/"
        },
        "id": "U-s8y4J0m6kD",
        "outputId": "31249600-597f-473b-e944-953826e94791"
      },
      "execution_count": null,
      "outputs": [
        {
          "output_type": "stream",
          "name": "stdout",
          "text": [
            "a = 1.5\n",
            "3\n"
          ]
        }
      ]
    },
    {
      "cell_type": "markdown",
      "source": [
        "# № 4.2.10\n",
        "\n",
        "Дано натуральное число. Определите сумму и количество его цифр."
      ],
      "metadata": {
        "id": "2W5rK-wtpYgY"
      }
    },
    {
      "cell_type": "code",
      "source": [
        "# Программирование на языке высокого уровня (Python).\n",
        "# https://www.yuripetrov.ru/edu/python\n",
        "# Задание task_04_02_10.\n",
        "#\n",
        "# Выполнил: Башашкин А.М\n",
        "# Группа: АДЭУ-221\n",
        "# E-mail: alesha_2010@list.ru\n",
        "\n",
        "\n",
        "n = int(input('n = '))\n",
        "n_sum = 0\n",
        "n_count = 0\n",
        "while n != 0:\n",
        "  n_sum += n%10 \n",
        "  n_count +=1\n",
        "  n //=10\n",
        "print ('Сумма = ', n_sum)\n",
        "print ('Количество = ', n_count)\n",
        "\n",
        "\n",
        "\n",
        "# --------------\n",
        "# Пример вывода:\n",
        "#\n",
        "# n = 12345\n",
        "# Сумма = 15\n",
        "# Количество = 5\n"
      ],
      "metadata": {
        "colab": {
          "base_uri": "https://localhost:8080/"
        },
        "id": "PciQZYUZpb7u",
        "outputId": "be48a8b9-ca1d-4c24-a582-7b146a5b8578"
      },
      "execution_count": null,
      "outputs": [
        {
          "output_type": "stream",
          "name": "stdout",
          "text": [
            "n = 12345\n",
            "Сумма =  15\n",
            "Количество =  5\n"
          ]
        }
      ]
    },
    {
      "cell_type": "markdown",
      "source": [
        "# № 4.2.12\n",
        "\n",
        "Даны целые числа a и b (a может быть больше b). Напечатайте:\n",
        "\n",
        "числа от минимального до максимального в строчку (разделяя пробелом);\n",
        "\n",
        "числа от максимального до минимального «столбиком»"
      ],
      "metadata": {
        "id": "0If7vTQjwo1R"
      }
    },
    {
      "cell_type": "code",
      "source": [
        "# Программирование на языке высокого уровня (Python).\n",
        "# https://www.yuripetrov.ru/edu/python\n",
        "# Задание task_04_02_12.\n",
        "#\n",
        "# Выполнил: Башашкин А.М\n",
        "# Группа: АДЭУ-221\n",
        "# E-mail: alesha_2010@list.ru\n",
        "\n",
        "\n",
        "a = int(input('a = '))\n",
        "b = int(input('b = '))\n",
        "if a < b:\n",
        "  j = list(range(a,b+1,1))\n",
        "  print(j)\n",
        "else:\n",
        "  j = list(range(b,a+1,1))\n",
        "  print(j)\n",
        "\n",
        "j.reverse()\n",
        "print(\"\\n\".join(map(str, j)))\n",
        "\n",
        "\n",
        "# --------------\n",
        "# Пример вывода:\n",
        "#\n",
        "# a = 1\n",
        "# b = 5\n",
        "# 1 2 3 4 5\n",
        "# 5\n",
        "# 4\n",
        "# 3\n",
        "# 2\n",
        "# 1\n"
      ],
      "metadata": {
        "colab": {
          "base_uri": "https://localhost:8080/"
        },
        "id": "hfP6c3-Ly_db",
        "outputId": "975f3f3c-82e9-4754-d3dc-bb534874984b"
      },
      "execution_count": null,
      "outputs": [
        {
          "output_type": "stream",
          "name": "stdout",
          "text": [
            "a = 1\n",
            "b = 5\n",
            "[1, 2, 3, 4, 5]\n",
            "5\n",
            "4\n",
            "3\n",
            "2\n",
            "1\n"
          ]
        }
      ]
    },
    {
      "cell_type": "markdown",
      "source": [
        "# № 4.2.13\n",
        "\n",
        "Для введенных с клавиатуры положительных целых чисел a и b (a≤b) определите:\n",
        "\n",
        "сумму всех целых чисел от a до b;\n",
        "\n",
        "произведение всех целых чисел от a до b;\n",
        "\n",
        "среднее арифметическое всех целых чисел от a до b;\n",
        "\n",
        "среднее геометрическое нечетных чисел от a до b.\n",
        "\n",
        "Отрезок поиска включает сами числа a и b. При выводе вещественных результатов оставьте два знака после запятой."
      ],
      "metadata": {
        "id": "LXFV5blZ1iH0"
      }
    },
    {
      "cell_type": "code",
      "source": [
        "# Программирование на языке высокого уровня (Python).\n",
        "# https://www.yuripetrov.ru/edu/python\n",
        "# Задание task_04_02_13.\n",
        "#\n",
        "# Выполнил: Башашкин А.М\n",
        "# Группа: АДЭУ-221\n",
        "# E-mail: alesha_2010@list.ru\n",
        "\n",
        "\n",
        "a = int(input('a = '))\n",
        "b = int(input('b = '))\n",
        "\n",
        "j=list(range(a,b+1,1))\n",
        "n_sum = sum(j)\n",
        "\n",
        "n_mult = 1\n",
        "a = 1\n",
        "while a<len(j):\n",
        "  n_mult *= j[a]\n",
        "  a+=1\n",
        "\n",
        "n_avg = round(n_sum / len(j),2)\n",
        "\n",
        "n_avg_geom = 1\n",
        "b = 1\n",
        "k = 0\n",
        "while b<len(j):\n",
        "  if j[b]%2 == 1:\n",
        "    n_avg_geom *= j[b]\n",
        "    b+=2\n",
        "    k+=1\n",
        "  else:\n",
        "    b+=1\n",
        "k+=1\n",
        "n_avg_geom = round((n_avg_geom**(1/k)),2)\n",
        "\n",
        "\n",
        "\n",
        "print(\"Сумма =\", n_sum)\n",
        "print(\"Произведение =\", n_mult)\n",
        "print(\"Среднее арифметическое =\", n_avg)\n",
        "print(\"Среднее геометрическое нечетных чисел\", n_avg_geom)\n",
        "\n",
        "# --------------\n",
        "# Пример вывода:\n",
        "#\n",
        "# a = 1\n",
        "# b = 5\n",
        "# Сумма = 15\n",
        "# Произведение = 120\n",
        "# Среднее арифметическое = 3.00\n",
        "# Среднее геометрическое нечетных чисел = 2.47\n"
      ],
      "metadata": {
        "colab": {
          "base_uri": "https://localhost:8080/"
        },
        "id": "xzQEqmrQ1mzW",
        "outputId": "e60ab3ab-6332-4506-ca52-e60ed1e05423"
      },
      "execution_count": null,
      "outputs": [
        {
          "output_type": "stream",
          "name": "stdout",
          "text": [
            "a = 10\n",
            "b = 14\n",
            "Сумма = 60\n",
            "Произведение = 24024\n",
            "Среднее арифметическое = 12.0\n",
            "Среднее геометрическое нечетных чисел 5.23\n"
          ]
        }
      ]
    },
    {
      "cell_type": "markdown",
      "source": [
        "# № 4.2.14\n",
        "\n",
        "Начав тренировки, лыжник в первый день пробежал s км. (s>0, вещественное число). Каждый следующий день он увеличивал пробег на p % (0<p≤100, вещественное число) от пробега предыдущего дня. Определите:\n",
        "\n",
        "пробег лыжника за второй, третий, …, десятый день тренировок;\n",
        "\n",
        "какой суммарный путь он пробежал за первые 10 дней тренировок.\n",
        "\n",
        "При выводе вещественных результатов оставьте один знак после запятой."
      ],
      "metadata": {
        "id": "FgJxlhm97vgt"
      }
    },
    {
      "cell_type": "code",
      "source": [
        "# Программирование на языке высокого уровня (Python).\n",
        "# https://www.yuripetrov.ru/edu/python\n",
        "# Задание task_04_02_14.\n",
        "#\n",
        "# Выполнил: Башашкин А.М\n",
        "# Группа: АДЭУ-221\n",
        "# E-mail: alesha_2010@list.ru\n",
        "\n",
        "s = float(input('Пробег за 1-й день (км.) = '))\n",
        "p = float(input('На сколько увеличивает пробег (%) = '))\n",
        "x = 1\n",
        "total = s\n",
        "\n",
        "\n",
        "while x < 10:\n",
        "  x+=1 \n",
        "  s = round(s + s*(p/100),2)\n",
        "  total += s\n",
        "  print('Пробег за {}-й день:'.format(x),s)\n",
        "  \n",
        " \n",
        "\n",
        "  \n",
        "\n",
        "print(\"Суммарный пробег: {:.1f} км.\".format(total))\n",
        "\n",
        "# --------------\n",
        "# Пример вывода:\n",
        "#\n",
        "# Пробег за 1-й день (км.) = 5\n",
        "# На сколько увеличивает пробег (%) = 10\n",
        "# Пробег за 2-й день: 5.5 км.\n",
        "# Пробег за 3-й день: 6.1 км.\n",
        "# Пробег за 4-й день: 6.7 км.\n",
        "# Пробег за 5-й день: 7.3 км.\n",
        "# Пробег за 6-й день: 8.1 км.\n",
        "# Пробег за 7-й день: 8.9 км.\n",
        "# Пробег за 8-й день: 9.7 км.\n",
        "# Пробег за 9-й день: 10.7 км.\n",
        "# Пробег за 10-й день: 11.8 км.\n",
        "# Суммарный пробег: 79.7 км.\n",
        "\n"
      ],
      "metadata": {
        "colab": {
          "base_uri": "https://localhost:8080/"
        },
        "id": "wKJGG1G67zX4",
        "outputId": "76388dbb-a143-4180-b38a-0b043a2e0e87"
      },
      "execution_count": null,
      "outputs": [
        {
          "output_type": "stream",
          "name": "stdout",
          "text": [
            "Пробег за 1-й день (км.) = 5\n",
            "На сколько увеличивает пробег (%) = 10\n",
            "Пробег за 2-й день: 5.5\n",
            "Пробег за 3-й день: 6.05\n",
            "Пробег за 4-й день: 6.65\n",
            "Пробег за 5-й день: 7.32\n",
            "Пробег за 6-й день: 8.05\n",
            "Пробег за 7-й день: 8.86\n",
            "Пробег за 8-й день: 9.75\n",
            "Пробег за 9-й день: 10.72\n",
            "Пробег за 10-й день: 11.79\n",
            "Суммарный пробег: 79.7 км.\n"
          ]
        }
      ]
    },
    {
      "cell_type": "markdown",
      "source": [
        "# № 4.2.15\n",
        "\n",
        "Известна масса каждого предмета в кг., загружаемого в грузовик. Определить, возможна ли перевозка груза, если грузоподъемность грузовика равна p кг."
      ],
      "metadata": {
        "id": "4_jOeYuxEJoq"
      }
    },
    {
      "cell_type": "code",
      "source": [
        "# Программирование на языке высокого уровня (Python).\n",
        "# https://www.yuripetrov.ru/edu/python\n",
        "# Задание task_04_02_15.\n",
        "#\n",
        "# Выполнил: Башашкин А.М\n",
        "# Группа: АДЭУ-221\n",
        "# E-mail: alesha_2010@list.ru\n",
        "\n",
        "\n",
        "p = int(input('Грузоводъемность грузовика (кг.) = '))\n",
        "n = int(input('Количество предметов = '))\n",
        "j = list()\n",
        "for x in range(n):\n",
        "  f = int(input(' Масса {}-го предмета (кг.) = '.format(x+1)))\n",
        "  j.append(f)\n",
        "if sum(j)<=p:\n",
        "  print('Да')\n",
        "else:\n",
        "  print('Нет')\n",
        "\n",
        "# --------------\n",
        "# Пример вывода:\n",
        "#\n",
        "# Грузоподъемность грузовика (кг.) = 10\n",
        "# Количество предметов = 2\n",
        "# Масса 1-го предмета (кг.) = 3\n",
        "# Масса 2-го предмета (кг.) = 3\n",
        "# Да\n"
      ],
      "metadata": {
        "colab": {
          "base_uri": "https://localhost:8080/"
        },
        "id": "8VHfQDc3EPgG",
        "outputId": "37d8a5bc-6445-44de-b2ab-854a01d8ce5b"
      },
      "execution_count": null,
      "outputs": [
        {
          "output_type": "stream",
          "name": "stdout",
          "text": [
            "Грузоводъемность грузовика (кг.) = 10\n",
            "Количество предметов = 2\n",
            " Масса 1-го предмета (кг.) = 3\n",
            " Масса 2-го предмета (кг.) = 3\n",
            "Да\n"
          ]
        }
      ]
    },
    {
      "cell_type": "markdown",
      "source": [
        "# № 4.2.16\n",
        "\n",
        "В области несколько районов. Заданы площади, засеваемые пшеницей (га.), и средняя урожайность (ц/га) в каждом районе.\n",
        "\n",
        "Определите количество пшеницы, собранное по области. При выводе вещественных результатов оставьте один знак после запятой."
      ],
      "metadata": {
        "id": "C0VsGLiUHI2h"
      }
    },
    {
      "cell_type": "code",
      "source": [
        "# Программирование на языке высокого уровня (Python).\n",
        "# https://www.yuripetrov.ru/edu/python\n",
        "# Задание task_04_02_16.\n",
        "#\n",
        "# Выполнил: Башашкин А.М\n",
        "# Группа: АДЭУ-221\n",
        "# E-mail: alesha_2010@list.ru\n",
        "\n",
        "s = 0\n",
        "summ = 0\n",
        "n = int(input('Количество районов = '))\n",
        "j = list()\n",
        "\n",
        "for x in range(n):\n",
        "  f = float(input('Площадь {}-го района (га) = '.format(x+1)))\n",
        "  g = float(input('Урожайность в {}-м районе (ц/га.) = '.format(x+1)))\n",
        "  s = f*g\n",
        "  j.append(s)\n",
        "  summ += s\n",
        "print('Собрано пшеницы: ', summ)\n",
        "\n",
        "\n",
        "\n",
        "# --------------\n",
        "# Пример вывода:\n",
        "#\n",
        "# Количество районов = 3\n",
        "# Площадь 1-го района (га) = 4\n",
        "# Урожайность в 1-м районе (ц/га.) = 2\n",
        "# Площадь 2-го района (га) = 7\n",
        "# Урожайность в 2-м районе (ц/га.) = 3\n",
        "# Площадь 3-го района (га) = 9\n",
        "# Урожайность в 3-м районе (ц/га.) = 4\n",
        "# Собрано пшеницы: 65.0 ц.\n"
      ],
      "metadata": {
        "colab": {
          "base_uri": "https://localhost:8080/"
        },
        "id": "f2uzQRLdHKSG",
        "outputId": "ea79aa5f-76f0-4316-fffb-9a8249bd580c"
      },
      "execution_count": null,
      "outputs": [
        {
          "output_type": "stream",
          "name": "stdout",
          "text": [
            "Количество районов = 3\n",
            "Площадь 1-го района (га) = 4\n",
            "Урожайность в 1-м районе (ц/га.) = 2\n",
            "Площадь 2-го района (га) = 7\n",
            "Урожайность в 2-м районе (ц/га.) = 3\n",
            "Площадь 3-го района (га) = 9\n",
            "Урожайность в 3-м районе (ц/га.) = 4\n",
            "Собрано пшеницы:  65.0\n"
          ]
        }
      ]
    },
    {
      "cell_type": "markdown",
      "source": [
        "# № 4.2.17\n",
        "\n",
        "Решите задачу № 4.2.7, организовав бесконечный цикл, который бы прерывался при выполнении условия, используя оператор break."
      ],
      "metadata": {
        "id": "YHEcMHiuKRAS"
      }
    },
    {
      "cell_type": "code",
      "source": [
        "# Программирование на языке высокого уровня (Python).\n",
        "# https://www.yuripetrov.ru/edu/python\n",
        "# Задание task_04_02_17.\n",
        "#\n",
        "# Выполнил: Башашкин А.М\n",
        "# Группа: АДЭУ-221\n",
        "# E-mail: alesha_2010@list.ru\n",
        "\n",
        "\n",
        "nums_sum = 0  # сумма\n",
        "nums_count = 0  # количество\n",
        "\n",
        "x = int(input('Введите 1-е число '))\n",
        "j = 2\n",
        "\n",
        "while x != 0:\n",
        "  nums_count += 1 \n",
        "  nums_sum += x\n",
        "  x = int(input('Введитe {}-е число: '.format(j)))\n",
        "  j+=1\n",
        "  if x == 0:\n",
        "    break\n",
        "\n",
        "print('Сумма = ',nums_sum)\n",
        "print('Количество  = ',nums_count)\n",
        "\n",
        "# Удалите комментарий и допишите код\n",
        "\n",
        "# --------------\n",
        "# Пример вывода:\n",
        "#\n",
        "# Введите 1-е число: 1\n",
        "# Введите 2-е число: 2\n",
        "# Введите 3-е число: 3\n",
        "# Введите 4-е число: 4\n",
        "# Введите 5-е число: 0\n",
        "# Сумма = 10\n",
        "# Количество = 4\n",
        "#\n",
        "# Введите 1-е число: 0\n",
        "# Сумма = 0\n",
        "# Количество = 0\n"
      ],
      "metadata": {
        "colab": {
          "base_uri": "https://localhost:8080/"
        },
        "id": "ItfbfP_OKS1P",
        "outputId": "f4d6284b-97c9-41db-e627-722ac03a535b"
      },
      "execution_count": null,
      "outputs": [
        {
          "output_type": "stream",
          "name": "stdout",
          "text": [
            "Введите 1-е число 1\n",
            "Введитe 2-е число: 2\n",
            "Введитe 3-е число: 3\n",
            "Введитe 4-е число: 4\n",
            "Введитe 5-е число: 0\n",
            "Сумма =  10\n",
            "Количество  =  4\n"
          ]
        }
      ]
    },
    {
      "cell_type": "markdown",
      "source": [
        "# № 4.2.18\n",
        "\n",
        "Предложение, введенное с клавиатуры, содержит слова из гласных и согласных букв кириллицы (регистр может быть различный), а также пробелы.\n",
        "\n",
        "Определите количество гласных и согласных букв в предложении. Для пропуска пробелов используйте оператор continue."
      ],
      "metadata": {
        "id": "uOG5Do4RNjI_"
      }
    },
    {
      "cell_type": "code",
      "source": [
        "# Программирование на языке высокого уровня (Python).\n",
        "# https://www.yuripetrov.ru/edu/python\n",
        "# Задание task_04_02_18.\n",
        "#\n",
        "# Выполнил: Башашкин А.М\n",
        "# Группа: АДЭУ-221\n",
        "# E-mail: alesha_2010@list.ru\n",
        "\n",
        "gl_count = 0  # Кол-во гласных\n",
        "sogl_count = 0  # Кол-во согласных\n",
        "\n",
        "sentence = input('Введите предложение: ')\n",
        "for x in sentence:\n",
        "  gl = x.lower()\n",
        "  if gl == 'а' or gl == 'ы' or gl == 'у' or gl == 'е' or gl == 'о' or gl == 'э' or gl == 'я' or gl == 'и' or gl == 'ю':\n",
        "    gl_count += 1\n",
        "  else:\n",
        "    sogl_count += 1 \n",
        "print('Кол-во букв в предложении: гласных - ', gl_count,', согласных - ', sogl_count)\n",
        "\n",
        "\n",
        "# --------------\n",
        "# Пример вывода:\n",
        "#\n",
        "# Введите предложение: Программирование\n",
        "# Кол-во букв в предложении: гласных - 7, согласных - 9\n"
      ],
      "metadata": {
        "colab": {
          "base_uri": "https://localhost:8080/"
        },
        "id": "0HHoi-RYLJFz",
        "outputId": "b41c24a2-ccbf-4bf3-c958-4fa7133bf0e8"
      },
      "execution_count": null,
      "outputs": [
        {
          "output_type": "stream",
          "name": "stdout",
          "text": [
            "Введите предложение: Работа\n",
            "Кол-во букв в предложении: гласных -  3 , согласных -  3\n"
          ]
        }
      ]
    },
    {
      "cell_type": "markdown",
      "source": [
        "# № 4.2.19\n",
        "\n",
        "Выведите на экран (в строку) все целые числа от a до b, кратные некоторому числу c."
      ],
      "metadata": {
        "id": "CngN89l8rlOP"
      }
    },
    {
      "cell_type": "code",
      "source": [
        "# Программирование на языке высокого уровня (Python).\n",
        "# https://www.yuripetrov.ru/edu/python\n",
        "# Задание task_04_02_19.\n",
        "#\n",
        "# Выполнил: Башашкин А.М\n",
        "# Группа: АДЭУ-221\n",
        "# E-mail: alesha_2010@list.ru\n",
        "\n",
        "\n",
        "\n",
        "a = int(input('а = '))\n",
        "b = int(input('b = '))\n",
        "c = int(input('c = '))\n",
        "\n",
        "j = list()\n",
        "\n",
        "for x in range(a,b+1):\n",
        "    if x % c == 0:\n",
        "        j.append(x)\n",
        "print(j)\n",
        "\n",
        "# --------------\n",
        "# Пример вывода:\n",
        "#\n",
        "# a = 1\n",
        "# b = 10\n",
        "# c = 2\n",
        "# 2 4 6 8 10\n"
      ],
      "metadata": {
        "colab": {
          "base_uri": "https://localhost:8080/"
        },
        "id": "Eb-378atrm1S",
        "outputId": "970a95d9-115e-4dc3-f104-7f66c5ccb5f6"
      },
      "execution_count": 14,
      "outputs": [
        {
          "output_type": "stream",
          "name": "stdout",
          "text": [
            "а = 1\n",
            "b = 10\n",
            "c = 2\n",
            "[2] [2, 4] [2, 4, 6] [2, 4, 6, 8] [2, 4, 6, 8, 10] "
          ]
        }
      ]
    },
    {
      "cell_type": "markdown",
      "source": [
        "# № 4.2.20\n",
        "\n",
        "Выведите на экран (в строку) все трехзначные натуральные числа, сумма цифр которых равна целому числу n (0<n≤27)."
      ],
      "metadata": {
        "id": "JPznjy7xRNSv"
      }
    },
    {
      "cell_type": "code",
      "source": [
        "# Программирование на языке высокого уровня (Python).\n",
        "# https://www.yuripetrov.ru/edu/python\n",
        "# Задание task_04_02_20.\n",
        "#\n",
        "# Выполнил: Башашкин А.М\n",
        "# Группа: АДЭУ-221\n",
        "# E-mail: alesha_2010@list.ru\n",
        "\n",
        "\n",
        "n = int(input('n = '))\n",
        "j=list()\n",
        "if n < 0 or n > 27:\n",
        "  print('Введите другое число')\n",
        "else:\n",
        "  for x in range(100,999):\n",
        "    if (x // 100) + (x % 100 // 10) + (x % 10) == n:\n",
        "      j.append(x)\n",
        "print(j)\n",
        "\n",
        "\n",
        "\n",
        "# Удалите комментарий и допишите код\n",
        "\n",
        "# --------------\n",
        "# Пример вывода:\n",
        "#\n",
        "# n = 3\n",
        "# 102 111 120 201 210 300\n",
        "\n"
      ],
      "metadata": {
        "colab": {
          "base_uri": "https://localhost:8080/"
        },
        "id": "MhhS7XnIRR90",
        "outputId": "aba5b895-261a-4f7b-efe6-947423545043"
      },
      "execution_count": null,
      "outputs": [
        {
          "output_type": "stream",
          "name": "stdout",
          "text": [
            "n = 3\n",
            "[102, 111, 120, 201, 210, 300]\n"
          ]
        }
      ]
    },
    {
      "cell_type": "markdown",
      "source": [
        "# № 4.2.21\n",
        "\n",
        "Известно количество учеников в классе и их рост (см.); рост мальчиков условно задан отрицательными числами. Определите средний рост мальчиков и средний рост девочек.\n",
        "\n",
        "При выводе вещественных результатов оставьте один знак после запятой."
      ],
      "metadata": {
        "id": "oG-9LwjrTe6a"
      }
    },
    {
      "cell_type": "code",
      "source": [
        "# Программирование на языке высокого уровня (Python).\n",
        "# https://www.yuripetrov.ru/edu/python\n",
        "# Задание task_04_02_21.\n",
        "#\n",
        "# Выполнил: Башашкин А.М\n",
        "# Группа: АДЭУ-221\n",
        "# E-mail: alesha_2010@list.ru\n",
        "\n",
        "n = int(input('n = '))\n",
        "\n",
        "n_m = 0\n",
        "n_d = 0\n",
        "r_sr_m = 0.0\n",
        "r_sr_d = 0.0\n",
        "\n",
        "for x in range(1,n+1):\n",
        "  r = int(input('Рост {}-го ученика = '.format(x)))\n",
        "  if r < 0:\n",
        "    n_m += 1\n",
        "    r_sr_m += r\n",
        "  else:\n",
        "    n_d += 1\n",
        "    r_sr_d += r\n",
        "\n",
        "r_sr_m /= n_m\n",
        "r_sr_d /= n_d\n",
        "\n",
        "r_sr_m *= (-1)\n",
        "\n",
        "\n",
        "\n",
        "print(\"Средний рост мальчиков: {:.1f}\".format(r_sr_m))\n",
        "print(\"Средний рост девочек: {:.1f}\".format(r_sr_d))\n",
        "\n",
        "# --------------\n",
        "# Пример вывода:\n",
        "#\n",
        "# n = 5\n",
        "# Рост 1-го ученика = 150\n",
        "# Рост 2-го ученика = -150\n",
        "# Рост 3-го ученика = 160\n",
        "# Рост 4-го ученика = 170\n",
        "# Рост 5-го ученика = 180\n",
        "# Средний рост мальчиков: 150.0\n",
        "# Средний рост девочек: 165.0\n"
      ],
      "metadata": {
        "colab": {
          "base_uri": "https://localhost:8080/"
        },
        "id": "LZkDq75YTh2A",
        "outputId": "08fb634b-de1c-4d4d-f050-e5c1500dc27b"
      },
      "execution_count": null,
      "outputs": [
        {
          "output_type": "stream",
          "name": "stdout",
          "text": [
            "n = 5\n",
            "Рост 1-го ученика = 150\n",
            "Рост 2-го ученика = -150\n",
            "Рост 3-го ученика = 160\n",
            "Рост 4-го ученика = 170\n",
            "Рост 5-го ученика = 180\n",
            "Средний рост мальчиков: 150.0\n",
            "Средний рост девочек: 165.0\n"
          ]
        }
      ]
    },
    {
      "cell_type": "markdown",
      "source": [
        "# № 4.2.22\n",
        "\n",
        "Даны n вещественных чисел. Определите максимальное и минимальное из них.\n",
        "\n",
        "При выводе вещественных результатов оставьте два знака после запятой."
      ],
      "metadata": {
        "id": "srCs_EvvYZYG"
      }
    },
    {
      "cell_type": "code",
      "source": [
        "# Программирование на языке высокого уровня (Python).\n",
        "# https://www.yuripetrov.ru/edu/python\n",
        "# Задание task_04_02_22.\n",
        "#\n",
        "# Выполнил: Башашкин А.М\n",
        "# Группа: АДЭУ-221\n",
        "# E-mail: alesha_2010@list.ru\n",
        "\n",
        "\n",
        "n = int(input('n = '))\n",
        "\n",
        "j = list()\n",
        "\n",
        "for x in range (1,n+1):\n",
        "  a = float(input('{}-е число = '.format(x)))\n",
        "  j.append(a)\n",
        "\n",
        "a_max = max(j)\n",
        "a_min = min(j)\n",
        "\n",
        "\n",
        "\n",
        "print(\"Максимум: {:.2f}\".format(a_max))\n",
        "print(\"Минимум: {:.2f}\".format(a_min))\n",
        "\n",
        "# --------------\n",
        "# Пример вывода:\n",
        "#\n",
        "# n = 4\n",
        "# 1-е число = 6.2\n",
        "# 2-е число = 3.8\n",
        "# 3-е число = 1.1\n",
        "# 4-е число = 9.66\n",
        "# Максимум: 9.66\n",
        "# Минимум: 1.10\n"
      ],
      "metadata": {
        "colab": {
          "base_uri": "https://localhost:8080/"
        },
        "id": "cP3062NDYcX3",
        "outputId": "fdb50216-d7b8-41c4-dd1a-1724d430f895"
      },
      "execution_count": null,
      "outputs": [
        {
          "output_type": "stream",
          "name": "stdout",
          "text": [
            "n = 4\n",
            "1-е число = 6.2\n",
            "2-е число = 3.8\n",
            "3-е число = 1.1\n",
            "4-е число = 9.66\n",
            "Максимум: 9.66\n",
            "Минимум: 1.10\n"
          ]
        }
      ]
    },
    {
      "cell_type": "markdown",
      "source": [
        "# № 4.2.23\n",
        "\n",
        "Дано натуральное число n. Определите, является ли оно членом последовательности Фибоначчи ."
      ],
      "metadata": {
        "id": "7yqwX4s1bJmS"
      }
    },
    {
      "cell_type": "code",
      "source": [
        "# Программирование на языке высокого уровня (Python).\n",
        "# https://www.yuripetrov.ru/edu/python\n",
        "# Задание task_04_02_23.\n",
        "#\n",
        "# Выполнил: Башашкин А.М\n",
        "# Группа: АДЭУ-221\n",
        "# E-mail: alesha_2010@list.ru\n",
        "\n",
        "\n",
        "n = int(input('n = '))\n",
        "\n",
        "fib1 = fib2 = a = 1\n",
        "\n",
        "while n != fib1:\n",
        "  if n < fib1:\n",
        "    print('Не является')\n",
        "    break\n",
        "  else:\n",
        "    a = fib1\n",
        "    fib1 += fib2 \n",
        "    fib2 = a \n",
        "else:\n",
        "  print('Является')\n",
        "\n",
        "# --------------\n",
        "# Пример вывода:\n",
        "#\n",
        "# n = 7\n",
        "# Не является\n",
        "#\n",
        "# n = 8\n",
        "# Является"
      ],
      "metadata": {
        "colab": {
          "base_uri": "https://localhost:8080/"
        },
        "id": "kwgP7SM_bMVC",
        "outputId": "a4a9a363-d98e-4b32-c28b-a81b00554e52"
      },
      "execution_count": null,
      "outputs": [
        {
          "output_type": "stream",
          "name": "stdout",
          "text": [
            "n = 8\n",
            "Является\n"
          ]
        }
      ]
    },
    {
      "cell_type": "markdown",
      "source": [
        "# № 4.2.24\n",
        "\n",
        "Дано n вещественных чисел. Определите, является ли последовательность упорядоченной по возрастанию. В случае отрицательного ответа выведите порядковый номер числа, нарушающего такую упорядоченность."
      ],
      "metadata": {
        "id": "w_RY5E-Yd_Av"
      }
    },
    {
      "cell_type": "code",
      "source": [
        "# Программирование на языке высокого уровня (Python).\n",
        "# https://www.yuripetrov.ru/edu/python\n",
        "# Задание task_04_02_24.\n",
        "#\n",
        "# Выполнил: Башашкин А.М\n",
        "# Группа: АДЭУ-221\n",
        "# E-mail: alesha_2010@list.ru\n",
        "\n",
        "n = int(input('n = '))\n",
        "j = list()\n",
        "i = bool\n",
        "\n",
        "for x in range(1,n+1):\n",
        "  a = float(input('{}-е число = '.format(x)))\n",
        "  j.append(a)\n",
        "\n",
        "for x in range(1,n):\n",
        "  if j[x-1] >= j[x]:\n",
        "    i = False\n",
        "    break\n",
        "  else:\n",
        "    i = True\n",
        "if i == True:\n",
        "  print('Является')\n",
        "else:\n",
        "  print(x)\n",
        "\n",
        "# --------------\n",
        "# Пример вывода:\n",
        "#\n",
        "# n = 4\n",
        "# 1-е число = 2\n",
        "# 2-е число = 4.6\n",
        "# 3-е число = 6\n",
        "# 4-е число = 8.3\n",
        "# Является\n",
        "#\n",
        "# n = 3\n",
        "# 1-е число = 3\n",
        "# 2-е число = 3\n",
        "# 2"
      ],
      "metadata": {
        "colab": {
          "base_uri": "https://localhost:8080/"
        },
        "id": "eDi_EkvNeCxG",
        "outputId": "1d4395cf-84a0-4654-ddf4-d0886a35bc7f"
      },
      "execution_count": null,
      "outputs": [
        {
          "output_type": "stream",
          "name": "stdout",
          "text": [
            "n = 3\n",
            "1-е число = 3\n",
            "2-е число = 3\n",
            "3-е число = 4\n",
            "1\n"
          ]
        }
      ]
    },
    {
      "cell_type": "markdown",
      "source": [
        "# № 4.2.25\n",
        "\n",
        "Выведите на экран таблицу умножения на n (2<n≤9) в виде:\n",
        "\n",
        "![image.png](data:image/png;base64,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)"
      ],
      "metadata": {
        "id": "sMd2X8jbuRWj"
      }
    },
    {
      "cell_type": "code",
      "source": [
        "# Программирование на языке высокого уровня (Python).\n",
        "# https://www.yuripetrov.ru/edu/python\n",
        "# Задание task_04_02_25.\n",
        "#\n",
        "# Выполнил: Башашкин А.М\n",
        "# Группа: АДЭУ-221\n",
        "# E-mail: alesha_2010@list.ru\n",
        "\n",
        "\n",
        "n = int(input('n = '))\n",
        "\n",
        "for x in range(1,n+1):\n",
        "  for y in range(1,n+1):\n",
        "    print(f'{x} * {y} = {x * y}\\t', end=' ')\n",
        "  print('')\n",
        "\n",
        "# --------------\n",
        "# Пример вывода:\n",
        "#\n",
        "# n = 5\n",
        "# 1 * 1 =  1  1 * 2 =  2  1 * 3 =  3  1 * 4 =  4  1 * 5 =  5\n",
        "# 2 * 1 =  2  2 * 2 =  4  2 * 3 =  6  2 * 4 =  8  2 * 5 = 10\n",
        "# 3 * 1 =  3  3 * 2 =  6  3 * 3 =  9  3 * 4 = 12  3 * 5 = 15\n",
        "# 4 * 1 =  4  4 * 2 =  8  4 * 3 = 12  4 * 4 = 16  4 * 5 = 20\n",
        "# 5 * 1 =  5  5 * 2 = 10  5 * 3 = 15  5 * 4 = 20  5 * 5 = 25\n"
      ],
      "metadata": {
        "colab": {
          "base_uri": "https://localhost:8080/"
        },
        "id": "TkE8BiBhugy6",
        "outputId": "b9fd2486-cce1-45b7-d7f4-a3aa91b67c0b"
      },
      "execution_count": null,
      "outputs": [
        {
          "output_type": "stream",
          "name": "stdout",
          "text": [
            "n = 5\n",
            "1 * 1 = 1\t 1 * 2 = 2\t 1 * 3 = 3\t 1 * 4 = 4\t 1 * 5 = 5\t \n",
            "2 * 1 = 2\t 2 * 2 = 4\t 2 * 3 = 6\t 2 * 4 = 8\t 2 * 5 = 10\t \n",
            "3 * 1 = 3\t 3 * 2 = 6\t 3 * 3 = 9\t 3 * 4 = 12\t 3 * 5 = 15\t \n",
            "4 * 1 = 4\t 4 * 2 = 8\t 4 * 3 = 12\t 4 * 4 = 16\t 4 * 5 = 20\t \n",
            "5 * 1 = 5\t 5 * 2 = 10\t 5 * 3 = 15\t 5 * 4 = 20\t 5 * 5 = 25\t \n"
          ]
        }
      ]
    },
    {
      "cell_type": "markdown",
      "source": [
        "# № 4.2.28\n",
        "\n",
        "Составьте программу для нахождения всех натуральных решений уравнения \n",
        "![image.png](data:image/png;base64,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)"
      ],
      "metadata": {
        "id": "SxXoma4M5f15"
      }
    },
    {
      "cell_type": "code",
      "source": [
        "# Программирование на языке высокого уровня (Python).\n",
        "# https://www.yuripetrov.ru/edu/python\n",
        "# Задание task_04_02_28.\n",
        "#\n",
        "# Выполнил: Башашкин А.М\n",
        "# Группа: АДЭУ-221\n",
        "# E-mail: alesha_2010@list.ru\n",
        "\n",
        "\n",
        "k = int(input('k = '))\n",
        "\n",
        "for x in range(1,31):\n",
        "  for y in range(1,31):\n",
        "    for z in range(1,31):\n",
        "      if x**2 + y**2 + z**2 == k**2:\n",
        "        print('x = ',x, ', y = ',y,', z = ',z)  \n",
        "\n",
        "# --------------\n",
        "# Пример вывода:\n",
        "#\n",
        "# k = 30\n",
        "# x =  4, y = 10, z = 28\n",
        "# x =  4, y = 20, z = 22\n",
        "# x =  4, y = 22, z = 20\n",
        "# x =  4, y = 28, z = 10\n",
        "# x = 10, y =  4, z = 28\n",
        "# x = 10, y = 20, z = 20\n",
        "# x = 10, y = 28, z =  4\n",
        "# x = 20, y =  4, z = 22\n",
        "# x = 20, y = 10, z = 20\n",
        "# x = 20, y = 20, z = 10\n",
        "# x = 20, y = 22, z =  4\n",
        "# x = 22, y =  4, z = 20\n",
        "# x = 22, y = 20, z =  4\n",
        "# x = 28, y =  4, z = 10\n",
        "# x = 28, y = 10, z =  4\n"
      ],
      "metadata": {
        "colab": {
          "base_uri": "https://localhost:8080/"
        },
        "id": "0IA0bGru5khI",
        "outputId": "1bbdfb23-baf9-4c24-8018-605d17800eb9"
      },
      "execution_count": null,
      "outputs": [
        {
          "output_type": "stream",
          "name": "stdout",
          "text": [
            "k = 30\n",
            "x =  4 , y =  10 , z =  28\n",
            "x =  4 , y =  20 , z =  22\n",
            "x =  4 , y =  22 , z =  20\n",
            "x =  4 , y =  28 , z =  10\n",
            "x =  10 , y =  4 , z =  28\n",
            "x =  10 , y =  20 , z =  20\n",
            "x =  10 , y =  28 , z =  4\n",
            "x =  20 , y =  4 , z =  22\n",
            "x =  20 , y =  10 , z =  20\n",
            "x =  20 , y =  20 , z =  10\n",
            "x =  20 , y =  22 , z =  4\n",
            "x =  22 , y =  4 , z =  20\n",
            "x =  22 , y =  20 , z =  4\n",
            "x =  28 , y =  4 , z =  10\n",
            "x =  28 , y =  10 , z =  4\n"
          ]
        }
      ]
    },
    {
      "cell_type": "code",
      "source": [
        "# Программирование на языке высокого уровня (Python).\n",
        "# https://www.yuripetrov.ru/edu/python\n",
        "# Задание task_04_02_29.\n",
        "#\n",
        "# Выполнил: Башашкин А.М\n",
        "# Группа: АДЭУ-221\n",
        "# E-mail: alesha_2010@list.ru\n",
        "\n",
        "\n",
        "n = int(input(\"n = \"))\n",
        "\n",
        "nums = list()\n",
        "\n",
        "nums_pos = list()\n",
        "nums_neg = list()\n",
        "a_pos = 0\n",
        "a_neg = 0\n",
        "\n",
        "for x in range(1,n+1):\n",
        "  a=float(input(f'Введите {x} -й элемент списка: '))\n",
        "  nums.append(a)\n",
        "  if a < 0:\n",
        "    a = a_neg\n",
        "    nums_neg.append(a_neg)\n",
        "  else:\n",
        "    a = a_pos\n",
        "    nums_pos.append(a_pos)\n",
        "print('Исходный список:', nums)\n",
        "print('Положительные числа:', nums_pos)\n",
        "print('Отрицательные числа:', nums_neg)\n",
        "\n",
        "\n",
        "\n",
        "# --------------\n",
        "# Пример вывода:\n",
        "#\n",
        "# n = 4\n",
        "# Введите 1-й элемент списка: 1\n",
        "# Введите 2-й элемент списка: 6\n",
        "# Введите 3-й элемент списка: -10\n",
        "# Введите 4-й элемент списка: -3\n",
        "# Исходный список: [1.0, 6.0, -10.0, -3.0]\n",
        "# Положительные числа: [1.0, 6.0]\n",
        "# Отрицательные числа: [-10.0, -3.0]\n",
        "# Ср. арифм.: 3.50\n",
        "# Ср. геом.: 5.48\n"
      ],
      "metadata": {
        "colab": {
          "base_uri": "https://localhost:8080/"
        },
        "id": "yHj6sADsG7Pg",
        "outputId": "ba992724-5e37-464e-9029-33e8cd490fab"
      },
      "execution_count": 19,
      "outputs": [
        {
          "output_type": "stream",
          "name": "stdout",
          "text": [
            "n = 4\n",
            "Введите 1 -й элемент списка: 1\n",
            "Введите 2 -й элемент списка: 6\n",
            "Введите 3 -й элемент списка: -10\n",
            "Введите 4 -й элемент списка: -3\n",
            "Исходный список: [1.0, 6.0, -10.0, -3.0]\n",
            "Положительные числа: [0, 0]\n",
            "Отрицательные числа: [0, 0]\n"
          ]
        }
      ]
    }
  ],
  "metadata": {
    "colab": {
      "collapsed_sections": [],
      "provenance": [],
      "authorship_tag": "ABX9TyPn2ttIfkmwKVsFjXSjrYVu",
      "include_colab_link": true
    },
    "kernelspec": {
      "display_name": "Python 3",
      "name": "python3"
    },
    "language_info": {
      "name": "python"
    }
  },
  "nbformat": 4,
  "nbformat_minor": 0
}